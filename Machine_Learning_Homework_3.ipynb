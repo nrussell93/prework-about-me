{
  "nbformat": 4,
  "nbformat_minor": 0,
  "metadata": {
    "colab": {
      "provenance": [],
      "authorship_tag": "ABX9TyPVb5IE67Y8C6qoUV7X1NfC",
      "include_colab_link": true
    },
    "kernelspec": {
      "name": "python3",
      "display_name": "Python 3"
    },
    "language_info": {
      "name": "python"
    }
  },
  "cells": [
    {
      "cell_type": "markdown",
      "metadata": {
        "id": "view-in-github",
        "colab_type": "text"
      },
      "source": [
        "<a href=\"https://colab.research.google.com/github/nrussell93/prework-about-me/blob/master/Machine_Learning_Homework_3.ipynb\" target=\"_parent\"><img src=\"https://colab.research.google.com/assets/colab-badge.svg\" alt=\"Open In Colab\"/></a>"
      ]
    },
    {
      "cell_type": "code",
      "execution_count": 189,
      "metadata": {
        "colab": {
          "base_uri": "https://localhost:8080/"
        },
        "id": "jMCEAqd2lXSg",
        "outputId": "f4f2c2b1-0ca2-4845-ed5a-1804984a3850"
      },
      "outputs": [
        {
          "output_type": "stream",
          "name": "stdout",
          "text": [
            "Drive already mounted at /content/drive; to attempt to forcibly remount, call drive.mount(\"/content/drive\", force_remount=True).\n",
            "Accuracy: 0.7987012987012987\n",
            "Precision: 0.6904761904761905\n",
            "Recall: 0.6170212765957447\n",
            "F1 Score:  0.651685393258427\n"
          ]
        },
        {
          "output_type": "execute_result",
          "data": {
            "text/plain": [
              "array([[94, 13],\n",
              "       [18, 29]])"
            ]
          },
          "metadata": {},
          "execution_count": 189
        }
      ],
      "source": [
        "# HW_5 Problem 1\n",
        "\n",
        "import numpy as np\n",
        "import pandas as pd\n",
        "import matplotlib.pyplot as plt\n",
        "import seaborn as sns\n",
        "from google.colab import drive\n",
        "drive.mount('/content/drive')\n",
        "\n",
        "file_path = '/content/drive/My Drive/Colab Notebooks/diabetes.csv'\n",
        "diabetes = pd.DataFrame(pd.read_csv(file_path))\n",
        "diabetes.head()\n",
        "diabetes.shape\n",
        "diabetes[5:]\n",
        "#Shape (768,9)\n",
        "\n",
        "X = diabetes.iloc[:,[0,1,2,3,4,5,6,7]]\n",
        "Y = diabetes.iloc[:,8]\n",
        "\n",
        "\n",
        "# Split dataset into training and  test set\n",
        "from sklearn.model_selection import train_test_split\n",
        "X_train, X_test, Y_train, Y_test = train_test_split(X,Y, test_size = 0.20, random_state = 0)\n",
        "\n",
        "\n",
        "# Normalize all inputs\n",
        "from sklearn.preprocessing import MinMaxScaler\n",
        "scale_diabetes = MinMaxScaler()\n",
        "X_train = scale_diabetes.fit_transform(X_train)\n",
        "X_test = scale_diabetes.fit_transform(X_test)\n",
        "\n",
        "# Standardize all inputs\n",
        "from sklearn.preprocessing import StandardScaler\n",
        "stand_diabetes = StandardScaler()\n",
        "X_train = stand_diabetes.fit_transform(X_train)\n",
        "X_test = stand_diabetes.fit_transform(X_test)\n",
        "\n",
        "# Begin regression\n",
        "from sklearn.linear_model import LogisticRegression\n",
        "classifier = LogisticRegression(random_state = 0)\n",
        "classifier.fit(X_train,Y_train)\n",
        "\n",
        "Y_pred = classifier.predict(X_test)\n",
        "\n",
        "\n",
        "# Use confusion matrix to get accuracy of the model\n",
        "from sklearn.metrics import confusion_matrix\n",
        "cnf_matrix = confusion_matrix(Y_test,Y_pred)\n",
        "\n",
        "\n",
        "from sklearn import metrics\n",
        "print(\"Accuracy:\",metrics.accuracy_score(Y_test, Y_pred))\n",
        "print(\"Precision:\",metrics.precision_score(Y_test, Y_pred))\n",
        "print(\"Recall:\",metrics.recall_score(Y_test, Y_pred))\n",
        "print(\"F1 Score: \",metrics.f1_score(Y_test, Y_pred))\n",
        "\n",
        "cnf_matrix\n",
        "\n",
        "\n"
      ]
    },
    {
      "cell_type": "code",
      "source": [
        "# Problem 2\n",
        "\n",
        "file_path = '/content/drive/My Drive/Colab Notebooks/cancer.csv'\n",
        "cancer = pd.DataFrame(pd.read_csv(file_path))\n",
        "cancer.head()\n",
        "cancer.shape\n",
        "cancer[5:]\n",
        "\n",
        "X = cancer.iloc[:,[2,3,4,5,6,7,8,9,10,11,12,13,14,15,16,17,18,19,20,21,22,23,24,25,26,27,28,29,30,31]]\n",
        "Y = cancer.iloc[:,1]\n",
        "\n",
        "# Convert M and B diagnosis into 0 and 1\n",
        "var_list =  ['diagnosis']\n",
        "\n",
        "# Convert M and B diagnosis into 0 and 1\n",
        "def data_map(y):\n",
        "    return y.map({'M': 1, 'B': 0})\n",
        "cancer[var_list] = cancer[var_list].apply(data_map)\n",
        "cancer.head()\n",
        "\n",
        "# Seperate cancer dataset into training set and validation set\n",
        "from sklearn.model_selection import train_test_split\n",
        "X_train, X_test, Y_train, Y_test = train_test_split(X,Y, test_size = 0.20, random_state = 0)\n",
        "\n",
        "# Normalize the parameters within the entire cancer dataset\n",
        "from sklearn.preprocessing import MinMaxScaler\n",
        "scale_cancer = MinMaxScaler()\n",
        "X_train = scale_cancer.fit_transform(X_train)\n",
        "X_test = scale_cancer.fit_transform(X_test)\n",
        "X_train[5:]\n",
        "\n",
        "# Standardize inputs\n",
        "from sklearn.preprocessing import StandardScaler\n",
        "stand_cancer = StandardScaler()\n",
        "X_train = stand_cancer.fit_transform(X_train)\n",
        "X_test = stand_cancer.fit_transform(X_test)\n",
        "X_train[5:]\n",
        "\n",
        "# Begin regression\n",
        "from sklearn.linear_model import LogisticRegression\n",
        "classifier = LogisticRegression()\n",
        "classifier.fit(X_train,Y_train)\n",
        "\n",
        "# Apply the Logistic classification model to the validation set\n",
        "Y_pred = classifier.predict(X_test)\n",
        "Y_pred[0:9]\n",
        "\n",
        "# Use confusion matrix to get accuracy of the model\n",
        "from sklearn.metrics import confusion_matrix\n",
        "cnf_matrix = confusion_matrix(Y_test,Y_pred)\n",
        "cnf_matrix\n",
        "\n",
        "from sklearn import metrics\n",
        "print(\"Accuracy:\",metrics.accuracy_score(Y_test, Y_pred))\n",
        "print(\"Precision:\",metrics.precision_score(Y_test, Y_pred, pos_label = 'M'))\n",
        "print(\"Recall:\",metrics.recall_score(Y_test, Y_pred, pos_label = 'M'))\n",
        "print(\"F1 Score: \",metrics.f1_score(Y_test, Y_pred, pos_label = 'M'))\n",
        "display(cnf_matrix)\n",
        "\n",
        "# Problem 1, part B\n",
        "classifier_penalty = LogisticRegression(penalty= 'l2',max_iter=1000, random_state=0)\n",
        "classifier_penalty.fit(X_train,Y_train)\n",
        "\n",
        "y_pred = classifier_penalty.predict(X_test)\n",
        "\n",
        "from sklearn.metrics import confusion_matrix\n",
        "cnf_matrix = confusion_matrix(Y_test,y_pred)\n",
        "cnf_matrix\n",
        "\n",
        "from sklearn import metrics\n",
        "print(\"Accuracy_weighted:\",metrics.accuracy_score(Y_test, y_pred))\n",
        "print(\"Precision_weighted:\",metrics.precision_score(Y_test, y_pred, pos_label = 'M'))\n",
        "print(\"Recall_weighted:\",metrics.recall_score(Y_test, y_pred, pos_label = 'M'))\n",
        "print(\"F1 Score_weighted: \",metrics.f1_score(Y_test, y_pred, pos_label = 'M'))\n",
        "cnf_matrix"
      ],
      "metadata": {
        "colab": {
          "base_uri": "https://localhost:8080/",
          "height": 238
        },
        "id": "pQeG8qa2VLnh",
        "outputId": "f5411884-c550-40dc-adef-327b2feede37"
      },
      "execution_count": 203,
      "outputs": [
        {
          "output_type": "stream",
          "name": "stdout",
          "text": [
            "Accuracy: 0.956140350877193\n",
            "Precision: 0.9565217391304348\n",
            "Recall: 0.9361702127659575\n",
            "F1 Score:  0.9462365591397849\n"
          ]
        },
        {
          "output_type": "display_data",
          "data": {
            "text/plain": [
              "array([[65,  2],\n",
              "       [ 3, 44]])"
            ]
          },
          "metadata": {}
        },
        {
          "output_type": "stream",
          "name": "stdout",
          "text": [
            "Accuracy_weighted: 0.956140350877193\n",
            "Precision_weighted: 0.9565217391304348\n",
            "Recall_weighted: 0.9361702127659575\n",
            "F1 Score_weighted:  0.9462365591397849\n"
          ]
        },
        {
          "output_type": "execute_result",
          "data": {
            "text/plain": [
              "array([[65,  2],\n",
              "       [ 3, 44]])"
            ]
          },
          "metadata": {},
          "execution_count": 203
        }
      ]
    },
    {
      "cell_type": "code",
      "source": [
        "# Problem 3\n",
        "import numpy as np\n",
        "import pandas as pd\n",
        "import matplotlib.pyplot as plt\n",
        "import seaborn as sns\n",
        "from sklearn import datasets\n",
        "from sklearn.datasets import load_iris\n",
        "from sklearn.naive_bayes import GaussianNB\n",
        "file_path = '/content/drive/My Drive/Colab Notebooks/cancer.csv'\n",
        "cancer = pd.DataFrame(pd.read_csv(file_path))\n",
        "cancer.head()\n",
        "cancer.shape\n",
        "cancer[5:]\n",
        "\n",
        "import numpy as np\n",
        "import pandas as pd\n",
        "from sklearn.model_selection import train_test_split\n",
        "from sklearn.naive_bayes import GaussianNB\n",
        "from sklearn import metrics\n",
        "\n",
        "# Load the cancer dataset (replace with your correct file path)\n",
        "file_path = '/content/drive/My Drive/Colab Notebooks/cancer.csv'\n",
        "cancer = pd.read_csv(file_path)\n",
        "\n",
        "# Assuming your target column is named 'diagnosis' (M or B)\n",
        "X = cancer.iloc[:, 2:31]  # Select the features\n",
        "Y = cancer['diagnosis'].map({'M': 1, 'B': 0})  # Map labels to 1 and 0\n",
        "\n",
        "# Split the data into training and test sets\n",
        "X_train, X_test, Y_train, Y_test = train_test_split(X, Y, test_size=0.20, random_state=0)\n",
        "\n",
        "\n",
        "\n",
        "# Fit a Naive Bayes model to the data\n",
        "model = GaussianNB()\n",
        "model.fit(X_train, Y_train)\n",
        "\n",
        "\n",
        "# Make predictions on the test data\n",
        "predicted = model.predict(X_test)\n",
        "\n",
        "# Print results\n",
        "from sklearn import metrics\n",
        "print(metrics.classification_report(Y_test, predicted))\n",
        "print(metrics.confusion_matrix(Y_test, predicted))\n"
      ],
      "metadata": {
        "colab": {
          "base_uri": "https://localhost:8080/"
        },
        "id": "fEye-nU4fgpQ",
        "outputId": "40f990ab-d494-4137-e1c2-30d6a383871e"
      },
      "execution_count": 207,
      "outputs": [
        {
          "output_type": "stream",
          "name": "stdout",
          "text": [
            "              precision    recall  f1-score   support\n",
            "\n",
            "           0       0.94      0.94      0.94        67\n",
            "           1       0.91      0.91      0.91        47\n",
            "\n",
            "    accuracy                           0.93       114\n",
            "   macro avg       0.93      0.93      0.93       114\n",
            "weighted avg       0.93      0.93      0.93       114\n",
            "\n",
            "[[63  4]\n",
            " [ 4 43]]\n"
          ]
        }
      ]
    },
    {
      "cell_type": "code",
      "source": [
        "# Problem 4\n",
        "import numpy as np\n",
        "import pandas as pd\n",
        "from sklearn import datasets\n",
        "from sklearn.datasets import load_iris\n",
        "from sklearn.naive_bayes import GaussianNB\n",
        "import seaborn as sns\n",
        "from sklearn.cluster import KMeans\n",
        "from sklearn.cluster import SpectralClustering\n",
        "from sklearn.linear_model import LogisticRegression\n",
        "from sklearn import metrics\n",
        "from sklearn.preprocessing import StandardScaler\n",
        "\n",
        "\n",
        "file_path = '/content/drive/My Drive/Colab Notebooks/cancer.csv'\n",
        "cancer = pd.DataFrame(pd.read_csv(file_path))\n",
        "cancer_new = pd.DataFrame(cancer)\n",
        "#cancer_new = cancer_new.dropna()\n",
        "\n",
        "# standard = StandardScaler()\n",
        "# X_train = standard.fit_transform(X_train)\n",
        "# X_test = standard.transform(X_test)\n",
        "\n",
        "#accur = 0\n",
        "#a_array = []\n",
        "\n",
        "best_accuracy = 0\n",
        "best_k = 0\n",
        "\n",
        "for k in range(1, 30):\n",
        "    X_training, X_testing = pcaReduction(X_train, X_test, k)\n",
        "\n",
        "    # Increase max_iter to 1000 for logistic regression\n",
        "    classifier_pca = LogisticRegression(random_state=0, max_iter=1000)\n",
        "    classifier_pca.fit(X_training, Y_train)\n",
        "    Y_predict = classifier_pca.predict(X_testing)\n",
        "\n",
        "    accuracy = metrics.accuracy_score(Y_test, Y_predict)\n",
        "\n",
        "    a_array.append(accuracy)\n",
        "\n",
        "    if accuracy > best_accuracy:\n",
        "        best_accuracy = accuracy\n",
        "        best_k = k\n",
        "\n",
        "print(\"Optimal K value: \", best_k)\n",
        "print(\"Most Accuracy: \", best_accuracy)\n",
        "\n",
        "classifier_optimal = LogisticRegression(random_state=0, max_iter=1000)\n",
        "X_training, X_testing = pcaReduction(X_train, X_test, best_k)\n",
        "classifier_optimal.fit(X_training, Y_train)\n",
        "Y_prediction = classifier_optimal.predict(X_testing)\n",
        "\n",
        "# Print results\n",
        "print(metrics.classification_report(Y_test, Y_prediction))\n",
        "print(metrics.confusion_matrix(Y_test, Y_prediction))\n"
      ],
      "metadata": {
        "colab": {
          "base_uri": "https://localhost:8080/"
        },
        "id": "CzVynWguroUG",
        "outputId": "1be2171a-14fa-41ec-8b0b-91a035abc60d"
      },
      "execution_count": 211,
      "outputs": [
        {
          "output_type": "stream",
          "name": "stdout",
          "text": [
            "Optimal K value:  1\n",
            "Most Accuracy:  0.9122807017543859\n",
            "              precision    recall  f1-score   support\n",
            "\n",
            "           0       0.90      0.96      0.93        67\n",
            "           1       0.93      0.85      0.89        47\n",
            "\n",
            "    accuracy                           0.91       114\n",
            "   macro avg       0.92      0.90      0.91       114\n",
            "weighted avg       0.91      0.91      0.91       114\n",
            "\n",
            "[[64  3]\n",
            " [ 7 40]]\n"
          ]
        }
      ]
    },
    {
      "cell_type": "code",
      "source": [
        "# Problem 5\n",
        "\n",
        "import numpy as np\n",
        "import pandas as pd\n",
        "from sklearn.decomposition import PCA\n",
        "from sklearn.naive_bayes import GaussianNB\n",
        "from sklearn import metrics\n",
        "from sklearn.preprocessing import StandardScaler\n",
        "from sklearn.model_selection import train_test_split\n",
        "\n",
        "# Load your dataset and preprocess it\n",
        "file_path = '/content/drive/My Drive/Colab Notebooks/cancer.csv'\n",
        "cancer = pd.read_csv(file_path)\n",
        "\n",
        "# Divide up features and ideal answer\n",
        "X = cancer.iloc[:, 2:31]\n",
        "Y = cancer['diagnosis'].map({'M': 1, 'B': 0})\n",
        "\n",
        "# Split the data into training and testing sets\n",
        "X_train, X_test, Y_train, Y_test = train_test_split(X, Y, test_size=0.2, random_state=0)\n",
        "\n",
        "# Standardize the data\n",
        "standard = StandardScaler()\n",
        "X_train = standard.fit_transform(X_train)\n",
        "X_test = standard.transform(X_test)\n",
        "\n",
        "best_accuracy = 0\n",
        "best_k = 0\n",
        "\n",
        "for k in range(1, 30):\n",
        "    # Perform PCA with k components\n",
        "    pca = PCA(n_components=k)\n",
        "    X_train_pca = pca.fit_transform(X_train)\n",
        "    X_test_pca = pca.transform(X_test)\n",
        "\n",
        "    # Train a Gaussian Naive Bayes classifier\n",
        "    classifier_pca = GaussianNB()\n",
        "    classifier_pca.fit(X_train_pca, Y_train)\n",
        "    Y_predict = classifier_pca.predict(X_test_pca)\n",
        "\n",
        "    accuracy = metrics.accuracy_score(Y_test, Y_predict)\n",
        "\n",
        "    if accuracy > best_accuracy:\n",
        "        best_accuracy = accuracy\n",
        "        best_k = k\n",
        "\n",
        "print(\"Optimal K value: \", best_k)\n",
        "print(\"Most Accuracy: \", best_accuracy)\n",
        "\n",
        "# Train the classifier with the optimal number of components\n",
        "pca = PCA(n_components=best_k)\n",
        "X_train_pca = pca.fit_transform(X_train)\n",
        "X_test_pca = pca.transform(X_test)\n",
        "\n",
        "classifier_optimal = GaussianNB()\n",
        "classifier_optimal.fit(X_train_pca, Y_train)\n",
        "Y_prediction = classifier_optimal.predict(X_test_pca)\n",
        "\n",
        "# Print results\n",
        "print(metrics.classification_report(Y_test, Y_prediction))\n",
        "print(metrics.confusion_matrix(Y_test, Y_prediction))\n"
      ],
      "metadata": {
        "colab": {
          "base_uri": "https://localhost:8080/"
        },
        "id": "ntgv4DvVU3tr",
        "outputId": "2be2d80f-475c-48b3-fc38-81b726e6647b"
      },
      "execution_count": 187,
      "outputs": [
        {
          "output_type": "stream",
          "name": "stdout",
          "text": [
            "Optimal K value:  5\n",
            "Most Accuracy:  0.9298245614035088\n",
            "              precision    recall  f1-score   support\n",
            "\n",
            "           0       0.93      0.96      0.94        67\n",
            "           1       0.93      0.89      0.91        47\n",
            "\n",
            "    accuracy                           0.93       114\n",
            "   macro avg       0.93      0.92      0.93       114\n",
            "weighted avg       0.93      0.93      0.93       114\n",
            "\n",
            "[[64  3]\n",
            " [ 5 42]]\n"
          ]
        }
      ]
    }
  ]
}